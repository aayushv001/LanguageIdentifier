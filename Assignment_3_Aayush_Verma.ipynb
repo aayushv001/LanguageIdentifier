{
 "cells": [
  {
   "cell_type": "code",
   "execution_count": 1,
   "id": "9fa5c1af-02f6-43b2-8252-fced38ecc943",
   "metadata": {},
   "outputs": [
    {
     "name": "stderr",
     "output_type": "stream",
     "text": [
      "/opt/conda/lib/python3.10/site-packages/transformers/utils/generic.py:311: UserWarning: torch.utils._pytree._register_pytree_node is deprecated. Please use torch.utils._pytree.register_pytree_node instead.\n",
      "  torch.utils._pytree._register_pytree_node(\n",
      "/opt/conda/lib/python3.10/site-packages/transformers/utils/generic.py:311: UserWarning: torch.utils._pytree._register_pytree_node is deprecated. Please use torch.utils._pytree.register_pytree_node instead.\n",
      "  torch.utils._pytree._register_pytree_node(\n"
     ]
    }
   ],
   "source": [
    "from datasets import load_dataset\n",
    "from transformers import AutoModelForSequenceClassification,AutoTokenizer,Trainer,AutoModel\n",
    "import pandas as pd\n",
    "import numpy as np\n",
    "from sklearn.metrics import accuracy_score, precision_score, recall_score, f1_score,classification_report,ConfusionMatrixDisplay\n",
    "import torch\n",
    "import torch.nn as nn\n",
    "import torch.optim as optim\n",
    "from torch.utils.data import DataLoader\n",
    "from tqdm.notebook import tqdm\n",
    "from IPython.display import clear_output,display"
   ]
  },
  {
   "cell_type": "code",
   "execution_count": 2,
   "id": "2798197f-e9d5-4469-8145-7e4e66fda4b8",
   "metadata": {},
   "outputs": [],
   "source": [
    "ds = load_dataset(\"papluca/language-identification\")"
   ]
  },
  {
   "cell_type": "code",
   "execution_count": 3,
   "id": "e850ab8b-a21f-4146-ac30-303a87300890",
   "metadata": {},
   "outputs": [
    {
     "data": {
      "text/plain": [
       "DatasetDict({\n",
       "    train: Dataset({\n",
       "        features: ['labels', 'text'],\n",
       "        num_rows: 70000\n",
       "    })\n",
       "    validation: Dataset({\n",
       "        features: ['labels', 'text'],\n",
       "        num_rows: 10000\n",
       "    })\n",
       "    test: Dataset({\n",
       "        features: ['labels', 'text'],\n",
       "        num_rows: 10000\n",
       "    })\n",
       "})"
      ]
     },
     "execution_count": 3,
     "metadata": {},
     "output_type": "execute_result"
    }
   ],
   "source": [
    "ds"
   ]
  },
  {
   "cell_type": "code",
   "execution_count": 4,
   "id": "e9dbf0df-50df-4942-b24c-2f7f9450c091",
   "metadata": {},
   "outputs": [],
   "source": [
    "ds['validation'] = ds['validation'].train_test_split(test_size = 0.24) "
   ]
  },
  {
   "cell_type": "code",
   "execution_count": 5,
   "id": "685ed37a-a194-41bc-9566-c629dc7c8921",
   "metadata": {},
   "outputs": [
    {
     "data": {
      "text/plain": [
       "DatasetDict({\n",
       "    train: Dataset({\n",
       "        features: ['labels', 'text'],\n",
       "        num_rows: 70000\n",
       "    })\n",
       "    validation: DatasetDict({\n",
       "        train: Dataset({\n",
       "            features: ['labels', 'text'],\n",
       "            num_rows: 7600\n",
       "        })\n",
       "        test: Dataset({\n",
       "            features: ['labels', 'text'],\n",
       "            num_rows: 2400\n",
       "        })\n",
       "    })\n",
       "    test: Dataset({\n",
       "        features: ['labels', 'text'],\n",
       "        num_rows: 10000\n",
       "    })\n",
       "})"
      ]
     },
     "execution_count": 5,
     "metadata": {},
     "output_type": "execute_result"
    }
   ],
   "source": [
    "ds"
   ]
  },
  {
   "cell_type": "code",
   "execution_count": 6,
   "id": "d10a173e-875f-49d3-962c-b0fb08e18495",
   "metadata": {},
   "outputs": [],
   "source": [
    "label2id = dict.fromkeys(pd.Series(ds['train']['labels']).unique())"
   ]
  },
  {
   "cell_type": "code",
   "execution_count": 7,
   "id": "c07f4c14-d2b7-4fee-8b02-5990be3f956b",
   "metadata": {},
   "outputs": [],
   "source": [
    "c = 0\n",
    "for key,val in label2id.items():\n",
    "    label2id[key] = c\n",
    "    c = c + 1"
   ]
  },
  {
   "cell_type": "code",
   "execution_count": 8,
   "id": "7b991177-f596-4e47-bffa-1820e72a78d1",
   "metadata": {},
   "outputs": [
    {
     "data": {
      "text/plain": [
       "{'pt': 0,\n",
       " 'bg': 1,\n",
       " 'zh': 2,\n",
       " 'th': 3,\n",
       " 'ru': 4,\n",
       " 'pl': 5,\n",
       " 'ur': 6,\n",
       " 'sw': 7,\n",
       " 'tr': 8,\n",
       " 'es': 9,\n",
       " 'ar': 10,\n",
       " 'it': 11,\n",
       " 'hi': 12,\n",
       " 'de': 13,\n",
       " 'el': 14,\n",
       " 'nl': 15,\n",
       " 'fr': 16,\n",
       " 'vi': 17,\n",
       " 'en': 18,\n",
       " 'ja': 19}"
      ]
     },
     "execution_count": 8,
     "metadata": {},
     "output_type": "execute_result"
    }
   ],
   "source": [
    "label2id"
   ]
  },
  {
   "cell_type": "code",
   "execution_count": 9,
   "id": "1bd4bbe3-53ac-4729-9591-36995b3dbb9d",
   "metadata": {},
   "outputs": [],
   "source": [
    "id2label = dict.fromkeys(list(label2id.values()))"
   ]
  },
  {
   "cell_type": "code",
   "execution_count": 10,
   "id": "430ee098-1250-4bb8-b269-ffbfd02cf413",
   "metadata": {},
   "outputs": [],
   "source": [
    "for key,val in label2id.items():\n",
    "    id2label[val] = key "
   ]
  },
  {
   "cell_type": "code",
   "execution_count": 11,
   "id": "c66274a0-409f-4b6a-a47e-9ed6773e63f1",
   "metadata": {},
   "outputs": [
    {
     "data": {
      "text/plain": [
       "{0: 'pt',\n",
       " 1: 'bg',\n",
       " 2: 'zh',\n",
       " 3: 'th',\n",
       " 4: 'ru',\n",
       " 5: 'pl',\n",
       " 6: 'ur',\n",
       " 7: 'sw',\n",
       " 8: 'tr',\n",
       " 9: 'es',\n",
       " 10: 'ar',\n",
       " 11: 'it',\n",
       " 12: 'hi',\n",
       " 13: 'de',\n",
       " 14: 'el',\n",
       " 15: 'nl',\n",
       " 16: 'fr',\n",
       " 17: 'vi',\n",
       " 18: 'en',\n",
       " 19: 'ja'}"
      ]
     },
     "execution_count": 11,
     "metadata": {},
     "output_type": "execute_result"
    }
   ],
   "source": [
    "id2label"
   ]
  },
  {
   "cell_type": "code",
   "execution_count": 12,
   "id": "bd33a3b2-1c8d-420d-8eb5-99365cc27606",
   "metadata": {},
   "outputs": [
    {
     "data": {
      "application/vnd.jupyter.widget-view+json": {
       "model_id": "da3d1d61f5e341d78af206aed18e45a4",
       "version_major": 2,
       "version_minor": 0
      },
      "text/plain": [
       "Downloading pytorch_model.bin:   0%|          | 0.00/1.33G [00:00<?, ?B/s]"
      ]
     },
     "metadata": {},
     "output_type": "display_data"
    },
    {
     "name": "stderr",
     "output_type": "stream",
     "text": [
      "Some weights of DebertaV2ForSequenceClassification were not initialized from the model checkpoint at microsoft/mdeberta-v3-base and are newly initialized: ['pooler.dense.bias', 'classifier.weight', 'pooler.dense.weight', 'classifier.bias']\n",
      "You should probably TRAIN this model on a down-stream task to be able to use it for predictions and inference.\n",
      "/opt/conda/lib/python3.10/site-packages/transformers/convert_slow_tokenizer.py:473: UserWarning: The sentencepiece tokenizer that you are converting to a fast tokenizer uses the byte fallback option which is not implemented in the fast tokenizers. In practice this means that the fast version of the tokenizer can produce unknown tokens whereas the sentencepiece version would have converted these unknown tokens into a sequence of byte tokens matching the original piece of text.\n",
      "  warnings.warn(\n"
     ]
    }
   ],
   "source": [
    "model = AutoModelForSequenceClassification.from_pretrained(\"microsoft/mdeberta-v3-base\",device_map = \"cuda:0\",num_labels = 20,label2id = label2id,id2label=id2label)\n",
    "tokenizer = AutoTokenizer.from_pretrained(\"microsoft/mdeberta-v3-base\")\n"
   ]
  },
  {
   "cell_type": "code",
   "execution_count": 13,
   "id": "1e1ca3ea-1db1-4ab6-abd9-52bbd1b664c3",
   "metadata": {},
   "outputs": [],
   "source": [
    "def computeMetrics(evalPreds):\n",
    "    logits,labels = evalPreds\n",
    "    preds = np.argmax(logits,axis = 1)\n",
    "    accuracy = accuracy_score(labels,preds)\n",
    "    precision = precision_score(labels,preds, average='weighted')\n",
    "    recall = recall_score(labels,preds, average='weighted')\n",
    "    f1 = f1_score(labels,preds, average='weighted')\n",
    "    return {\"accuracy\": accuracy,\"precision\": precision,\"recall\": recall,\"f1\": f1}"
   ]
  },
  {
   "cell_type": "code",
   "execution_count": 14,
   "id": "56bb52f6-8bc1-4f49-aea8-7de67d3b8ecf",
   "metadata": {},
   "outputs": [
    {
     "data": {
      "application/vnd.jupyter.widget-view+json": {
       "model_id": "4122c32dc9b8449e9678fca87079d1a2",
       "version_major": 2,
       "version_minor": 0
      },
      "text/plain": [
       "Map:   0%|          | 0/2400 [00:00<?, ? examples/s]"
      ]
     },
     "metadata": {},
     "output_type": "display_data"
    }
   ],
   "source": [
    "def preProcessLabels(ex):\n",
    "    ex['labels'] = label2id[ex['labels']]\n",
    "    return ex\n",
    "ds['train'] = ds['train'].map(preProcessLabels)\n",
    "ds['validation'] = ds['validation']['test'].map(preProcessLabels)\n",
    "ds['test'] = ds['test'].map(preProcessLabels)"
   ]
  },
  {
   "cell_type": "code",
   "execution_count": 15,
   "id": "95757fe3-9ec2-48bd-8911-38def8e03fb8",
   "metadata": {},
   "outputs": [
    {
     "data": {
      "application/vnd.jupyter.widget-view+json": {
       "model_id": "dbdddb10ac184bff8455156979589042",
       "version_major": 2,
       "version_minor": 0
      },
      "text/plain": [
       "Map:   0%|          | 0/2400 [00:00<?, ? examples/s]"
      ]
     },
     "metadata": {},
     "output_type": "display_data"
    }
   ],
   "source": [
    "def tokenizeDS(batch):\n",
    "    return tokenizer(batch[\"text\"], padding=\"max_length\", truncation=True,return_tensors = \"pt\",max_length = 512)\n",
    "ds['train'] = ds['train'].map(tokenizeDS,batched = True,batch_size = 10000)\n",
    "ds['validation'] = ds['validation'].map(tokenizeDS,batched = True,batch_size = 10000)\n",
    "ds['test'] = ds['test'].map(tokenizeDS,batched = True,batch_size = 10000)\n",
    "ds['train'].set_format(\"torch\")\n",
    "ds['validation'].set_format(\"torch\")\n",
    "ds['test'].set_format(\"torch\")"
   ]
  },
  {
   "cell_type": "markdown",
   "id": "40f0a6fa-667e-49f3-8af7-85b0b173a23c",
   "metadata": {},
   "source": [
    "### Trained model for 1000 Steps With Default pooling"
   ]
  },
  {
   "cell_type": "code",
   "execution_count": null,
   "id": "d2540164-2899-4e96-b449-3a9b4521f36b",
   "metadata": {},
   "outputs": [],
   "source": [
    "training_args = TrainingArguments(\n",
    "    output_dir=\"mdebertaV1\",\n",
    "    do_train=True,\n",
    "    do_eval=True,\n",
    "    per_device_train_batch_size=10, \n",
    "    per_device_eval_batch_size=10,\n",
    "    warmup_steps=10,\n",
    "    num_train_epochs=3, \n",
    "    learning_rate=3e-5,\n",
    "    weight_decay=0.03,\n",
    "    evaluation_strategy=\"steps\",\n",
    "    save_strategy=\"steps\",\n",
    "    load_best_model_at_end=True,\n",
    "    logging_steps=100,\n",
    "    eval_steps = 100,\n",
    "    overwrite_output_dir = True,\n",
    "    metric_for_best_model = \"eval_loss\",\n",
    "    remove_unused_columns=False,\n",
    ")\n",
    "trainer = Trainer(\n",
    "    model=model,\n",
    "    args=training_args,\n",
    "    train_dataset=ds['train'],\n",
    "    eval_dataset=ds['validation'],\n",
    "    compute_metrics=computeMetrics\n",
    ")\n",
    "trainer.can_return_loss = True\n",
    "trainer.train()"
   ]
  },
  {
   "cell_type": "markdown",
   "id": "d4061682-3ec8-4dc9-be83-941e3624203f",
   "metadata": {},
   "source": [
    "### Load Model"
   ]
  },
  {
   "cell_type": "code",
   "execution_count": 17,
   "id": "22c36649-1b1a-418d-852c-8affe94541f5",
   "metadata": {},
   "outputs": [],
   "source": [
    "model = AutoModelForSequenceClassification.from_pretrained(\"mdebertaV1/checkpoint-1000\",local_files_only = True,device_map = \"cuda:0\")"
   ]
  },
  {
   "cell_type": "code",
   "execution_count": 18,
   "id": "7a46e9e7-3723-4511-a684-d9d7bbde1a8b",
   "metadata": {},
   "outputs": [
    {
     "data": {
      "text/plain": [
       "DebertaV2ForSequenceClassification(\n",
       "  (deberta): DebertaV2Model(\n",
       "    (embeddings): DebertaV2Embeddings(\n",
       "      (word_embeddings): Embedding(251000, 768, padding_idx=0)\n",
       "      (LayerNorm): LayerNorm((768,), eps=1e-07, elementwise_affine=True)\n",
       "      (dropout): StableDropout()\n",
       "    )\n",
       "    (encoder): DebertaV2Encoder(\n",
       "      (layer): ModuleList(\n",
       "        (0-11): 12 x DebertaV2Layer(\n",
       "          (attention): DebertaV2Attention(\n",
       "            (self): DisentangledSelfAttention(\n",
       "              (query_proj): Linear(in_features=768, out_features=768, bias=True)\n",
       "              (key_proj): Linear(in_features=768, out_features=768, bias=True)\n",
       "              (value_proj): Linear(in_features=768, out_features=768, bias=True)\n",
       "              (pos_dropout): StableDropout()\n",
       "              (dropout): StableDropout()\n",
       "            )\n",
       "            (output): DebertaV2SelfOutput(\n",
       "              (dense): Linear(in_features=768, out_features=768, bias=True)\n",
       "              (LayerNorm): LayerNorm((768,), eps=1e-07, elementwise_affine=True)\n",
       "              (dropout): StableDropout()\n",
       "            )\n",
       "          )\n",
       "          (intermediate): DebertaV2Intermediate(\n",
       "            (dense): Linear(in_features=768, out_features=3072, bias=True)\n",
       "            (intermediate_act_fn): GELUActivation()\n",
       "          )\n",
       "          (output): DebertaV2Output(\n",
       "            (dense): Linear(in_features=3072, out_features=768, bias=True)\n",
       "            (LayerNorm): LayerNorm((768,), eps=1e-07, elementwise_affine=True)\n",
       "            (dropout): StableDropout()\n",
       "          )\n",
       "        )\n",
       "      )\n",
       "      (rel_embeddings): Embedding(512, 768)\n",
       "      (LayerNorm): LayerNorm((768,), eps=1e-07, elementwise_affine=True)\n",
       "    )\n",
       "  )\n",
       "  (pooler): ContextPooler(\n",
       "    (dense): Linear(in_features=768, out_features=768, bias=True)\n",
       "    (dropout): StableDropout()\n",
       "  )\n",
       "  (classifier): Linear(in_features=768, out_features=20, bias=True)\n",
       "  (dropout): StableDropout()\n",
       ")"
      ]
     },
     "execution_count": 18,
     "metadata": {},
     "output_type": "execute_result"
    }
   ],
   "source": [
    "model"
   ]
  },
  {
   "cell_type": "code",
   "execution_count": 34,
   "id": "fdd31f8d-a68e-4d15-b646-e3676a44d31d",
   "metadata": {},
   "outputs": [],
   "source": [
    "def evaluateTest():\n",
    "    evalds = ds['test'].set_format(\"torch\", columns=[\"input_ids\", \"attention_mask\",'token_type_ids'])\n",
    "    dl = DataLoader(ds['test'], batch_size=10)\n",
    "    predictions = []\n",
    "    with torch.no_grad():\n",
    "        for batch in tqdm(dl):\n",
    "            batch = {k: v.cuda() for k, v in batch.items()}\n",
    "            model.eval()\n",
    "            preds = model(**batch)\n",
    "            predictions.extend(preds.logits.argmax(1).detach().cpu().numpy())\n",
    "    return predictions"
   ]
  },
  {
   "cell_type": "code",
   "execution_count": 35,
   "id": "07ee586e-dbec-43d2-ae1b-fd79bcfaa378",
   "metadata": {},
   "outputs": [
    {
     "name": "stderr",
     "output_type": "stream",
     "text": [
      "100% 1000/1000 [07:15<00:00,  2.30it/s]\n"
     ]
    }
   ],
   "source": [
    "preds = evaluateTest()"
   ]
  },
  {
   "cell_type": "markdown",
   "id": "c19d9d4f-1418-462a-9c43-93be80b1406b",
   "metadata": {},
   "source": [
    "### Metrics"
   ]
  },
  {
   "cell_type": "code",
   "execution_count": 40,
   "id": "ae9753a2-5ab3-42e6-93cb-8ffe2140cf98",
   "metadata": {},
   "outputs": [
    {
     "name": "stdout",
     "output_type": "stream",
     "text": [
      "Accuracy: 0.9956\n",
      "Precision: 0.9956583586115858\n",
      "Recall: 0.9956\n",
      "F1: 0.9956008000847106\n"
     ]
    }
   ],
   "source": [
    "print(\"Accuracy:\",accuracy_score(ds['test']['labels'],preds))\n",
    "print(\"Precision:\",precision_score(ds['test']['labels'],preds, average='weighted'))\n",
    "print(\"Recall:\",recall_score(ds['test']['labels'],preds, average='weighted'))\n",
    "print(\"F1:\",f1_score(ds['test']['labels'],preds, average='weighted'))"
   ]
  },
  {
   "cell_type": "code",
   "execution_count": 46,
   "id": "51f6dbd0-f4e9-4fe5-b299-511405e5e1d7",
   "metadata": {},
   "outputs": [
    {
     "name": "stdout",
     "output_type": "stream",
     "text": [
      "              precision    recall  f1-score   support\n",
      "\n",
      "          pt       0.99      0.99      0.99       500\n",
      "          bg       0.99      1.00      1.00       500\n",
      "          zh       1.00      1.00      1.00       500\n",
      "          th       1.00      1.00      1.00       500\n",
      "          ru       1.00      1.00      1.00       500\n",
      "          pl       1.00      0.99      1.00       500\n",
      "          ur       0.97      0.99      0.98       500\n",
      "          sw       0.97      1.00      0.99       500\n",
      "          tr       0.99      1.00      1.00       500\n",
      "          es       0.99      1.00      1.00       500\n",
      "          ar       1.00      1.00      1.00       500\n",
      "          it       1.00      0.98      0.99       500\n",
      "          hi       1.00      0.97      0.98       500\n",
      "          de       1.00      1.00      1.00       500\n",
      "          el       1.00      1.00      1.00       500\n",
      "          nl       1.00      1.00      1.00       500\n",
      "          fr       1.00      1.00      1.00       500\n",
      "          vi       1.00      1.00      1.00       500\n",
      "          en       1.00      1.00      1.00       500\n",
      "          ja       1.00      1.00      1.00       500\n",
      "\n",
      "    accuracy                           1.00     10000\n",
      "   macro avg       1.00      1.00      1.00     10000\n",
      "weighted avg       1.00      1.00      1.00     10000\n",
      "\n"
     ]
    }
   ],
   "source": [
    "print(classification_report(ds['test']['labels'],preds,target_names = list(label2id.keys())))"
   ]
  },
  {
   "cell_type": "code",
   "execution_count": 47,
   "id": "483760e5-a334-4b34-996c-795fec8980db",
   "metadata": {},
   "outputs": [
    {
     "data": {
      "text/plain": [
       "<sklearn.metrics._plot.confusion_matrix.ConfusionMatrixDisplay at 0x7fa9e80ba1d0>"
      ]
     },
     "execution_count": 47,
     "metadata": {},
     "output_type": "execute_result"
    },
    {
     "data": {
      "image/png": "[encoded data removed]",
      "text/plain": [
       "<Figure size 640x480 with 2 Axes>"
      ]
     },
     "metadata": {},
     "output_type": "display_data"
    }
   ],
   "source": [
    "ConfusionMatrixDisplay.from_predictions(ds['test']['labels'],preds,display_labels = list(label2id.keys()))"
   ]
  },
  {
   "cell_type": "code",
   "execution_count": 2,
   "id": "2d83d801-c312-455b-b617-bc1f340eb5c1",
   "metadata": {},
   "outputs": [
    {
     "name": "stderr",
     "output_type": "stream",
     "text": [
      "/opt/conda/lib/python3.10/site-packages/transformers/convert_slow_tokenizer.py:473: UserWarning: The sentencepiece tokenizer that you are converting to a fast tokenizer uses the byte fallback option which is not implemented in the fast tokenizers. In practice this means that the fast version of the tokenizer can produce unknown tokens whereas the sentencepiece version would have converted these unknown tokens into a sequence of byte tokens matching the original piece of text.\n",
      "  warnings.warn(\n"
     ]
    }
   ],
   "source": [
    "model = AutoModel.from_pretrained(\"microsoft/mdeberta-v3-base\",device_map = \"cuda:0\")\n",
    "tokenizer = AutoTokenizer.from_pretrained(\"microsoft/mdeberta-v3-base\")"
   ]
  },
  {
   "cell_type": "code",
   "execution_count": 3,
   "id": "3d3f1381-03ce-4b23-8d62-d940c94c106e",
   "metadata": {},
   "outputs": [],
   "source": [
    "ds = load_dataset(\"papluca/language-identification\")"
   ]
  },
  {
   "cell_type": "code",
   "execution_count": 4,
   "id": "1b06f2fe-710c-45d7-9b99-0fde94937268",
   "metadata": {},
   "outputs": [],
   "source": [
    "ds['validation'] = ds['validation'].train_test_split(test_size = 0.2)"
   ]
  },
  {
   "cell_type": "code",
   "execution_count": 5,
   "id": "2340c0ae-06f9-466a-b04b-fd86ffcf30d5",
   "metadata": {},
   "outputs": [],
   "source": [
    "ds['validation'] = ds['validation']['test']"
   ]
  },
  {
   "cell_type": "code",
   "execution_count": 6,
   "id": "83015553-1c2f-41b0-b614-065aa2627350",
   "metadata": {},
   "outputs": [
    {
     "data": {
      "text/plain": [
       "DatasetDict({\n",
       "    train: Dataset({\n",
       "        features: ['labels', 'text'],\n",
       "        num_rows: 70000\n",
       "    })\n",
       "    validation: Dataset({\n",
       "        features: ['labels', 'text'],\n",
       "        num_rows: 2000\n",
       "    })\n",
       "    test: Dataset({\n",
       "        features: ['labels', 'text'],\n",
       "        num_rows: 10000\n",
       "    })\n",
       "})"
      ]
     },
     "execution_count": 6,
     "metadata": {},
     "output_type": "execute_result"
    }
   ],
   "source": [
    "ds"
   ]
  },
  {
   "cell_type": "code",
   "execution_count": 7,
   "id": "7cace366-44fd-46fc-83ed-53e0fc5d6eb0",
   "metadata": {},
   "outputs": [],
   "source": [
    "label2id = dict.fromkeys(pd.Series(ds['train']['labels']).unique())\n",
    "c = 0\n",
    "for key,val in label2id.items():\n",
    "    label2id[key] = c\n",
    "    c = c + 1"
   ]
  },
  {
   "cell_type": "code",
   "execution_count": 8,
   "id": "d506c929-28b3-4e45-b291-e6e2e0f7864d",
   "metadata": {},
   "outputs": [
    {
     "data": {
      "application/vnd.jupyter.widget-view+json": {
       "model_id": "e44b8b8713aa403cac20963a11faecad",
       "version_major": 2,
       "version_minor": 0
      },
      "text/plain": [
       "Map:   0%|          | 0/2000 [00:00<?, ? examples/s]"
      ]
     },
     "metadata": {},
     "output_type": "display_data"
    }
   ],
   "source": [
    "def preProcessLabels(ex):\n",
    "    ex['labels'] = label2id[ex['labels']]\n",
    "    return ex\n",
    "ds['train'] = ds['train'].map(preProcessLabels)\n",
    "ds['validation'] = ds['validation'].map(preProcessLabels)\n",
    "ds['test'] = ds['test'].map(preProcessLabels)"
   ]
  },
  {
   "cell_type": "code",
   "execution_count": 9,
   "id": "dc477ca8-bf98-4819-a03e-17491f7e8f06",
   "metadata": {},
   "outputs": [
    {
     "data": {
      "application/vnd.jupyter.widget-view+json": {
       "model_id": "70f53a69d5524e8fbcbd8554903b89ad",
       "version_major": 2,
       "version_minor": 0
      },
      "text/plain": [
       "Map:   0%|          | 0/2000 [00:00<?, ? examples/s]"
      ]
     },
     "metadata": {},
     "output_type": "display_data"
    }
   ],
   "source": [
    "def tokenizeDS(batch):\n",
    "    return tokenizer(batch[\"text\"], padding=\"max_length\", truncation=True,return_tensors = \"pt\",max_length = 512)\n",
    "ds['train'] = ds['train'].map(tokenizeDS,batched = True,batch_size = 10000)\n",
    "ds['validation'] = ds['validation'].map(tokenizeDS,batched = True,batch_size = 10000)\n",
    "ds['test'] = ds['test'].map(tokenizeDS,batched = True,batch_size = 10000)\n",
    "ds['train'].set_format(\"torch\")\n",
    "ds['validation'].set_format(\"torch\")\n",
    "ds['test'].set_format(\"torch\")"
   ]
  },
  {
   "cell_type": "markdown",
   "id": "1d13bf08-400d-48c1-a8f8-34742230eef5",
   "metadata": {},
   "source": [
    "### Custom pooling, Averaging Embeddings of All Tokens"
   ]
  },
  {
   "cell_type": "code",
   "execution_count": 10,
   "id": "fb05e09e-e5fc-41c1-8f61-e85d4cd6434e",
   "metadata": {},
   "outputs": [],
   "source": [
    "class langClassifier(nn.Module):\n",
    "    def __init__(self):\n",
    "        super().__init__()\n",
    "        self.model = model\n",
    "        self.model.train()\n",
    "        self.dense = nn.Linear(768,20)\n",
    "    def forward(self,x):\n",
    "        hs = self.model(**x).last_hidden_state\n",
    "        pool = hs.mean(dim = 1)\n",
    "        logits = self.dense(pool)\n",
    "        return logits\n",
    "lc = langClassifier().cuda()"
   ]
  },
  {
   "cell_type": "code",
   "execution_count": 11,
   "id": "38a2c35e-e1f7-4239-8a49-d1279ea2578e",
   "metadata": {},
   "outputs": [],
   "source": [
    "lossFN= nn.CrossEntropyLoss()\n",
    "optimizer = optim.AdamW(lc.parameters(),lr = 0.00003)"
   ]
  },
  {
   "cell_type": "code",
   "execution_count": 12,
   "id": "822e1e5a-0ba8-4d44-b317-71766e15ea51",
   "metadata": {},
   "outputs": [],
   "source": [
    "train = DataLoader(ds['train'],batch_size = 10)\n",
    "val = DataLoader(ds['validation'],batch_size = 10)\n",
    "test = DataLoader(ds['test'],batch_size = 10)"
   ]
  },
  {
   "cell_type": "markdown",
   "id": "570e89ca-bea5-4292-9bad-1ee28bf130d7",
   "metadata": {},
   "source": [
    "### Trained Model for 7000 Steps to acheive similar performance"
   ]
  },
  {
   "cell_type": "code",
   "execution_count": 13,
   "id": "18cc4c49-8407-43ed-be19-b50305db3be3",
   "metadata": {},
   "outputs": [
    {
     "data": {
      "application/vnd.jupyter.widget-view+json": {
       "model_id": "4c5d5283d47746a2911e726187ace862",
       "version_major": 2,
       "version_minor": 0
      },
      "text/plain": [
       "  0%|          | 0/7000 [00:00<?, ?it/s]"
      ]
     },
     "metadata": {},
     "output_type": "display_data"
    },
    {
     "data": {
      "application/vnd.jupyter.widget-view+json": {
       "model_id": "",
       "version_major": 2,
       "version_minor": 0
      },
      "text/plain": [
       "  0%|          | 0/200 [00:00<?, ?it/s]"
      ]
     },
     "metadata": {},
     "output_type": "display_data"
    },
    {
     "name": "stderr",
     "output_type": "stream",
     "text": [
      "/opt/conda/lib/python3.10/site-packages/sklearn/metrics/_classification.py:1469: UndefinedMetricWarning: Precision is ill-defined and being set to 0.0 in labels with no predicted samples. Use `zero_division` parameter to control this behavior.\n",
      "  _warn_prf(average, modifier, msg_start, len(result))\n"
     ]
    },
    {
     "name": "stdout",
     "output_type": "stream",
     "text": [
      "{'Training Loss': 2.9423, 'Validation Loss': 2.8289, 'Accuracy': 0.249, 'Precision': 0.4737, 'Recall': 0.249, 'F1': 0.2172}\n"
     ]
    },
    {
     "data": {
      "application/vnd.jupyter.widget-view+json": {
       "model_id": "",
       "version_major": 2,
       "version_minor": 0
      },
      "text/plain": [
       "  0%|          | 0/200 [00:00<?, ?it/s]"
      ]
     },
     "metadata": {},
     "output_type": "display_data"
    },
    {
     "name": "stderr",
     "output_type": "stream",
     "text": [
      "/opt/conda/lib/python3.10/site-packages/sklearn/metrics/_classification.py:1469: UndefinedMetricWarning: Precision is ill-defined and being set to 0.0 in labels with no predicted samples. Use `zero_division` parameter to control this behavior.\n",
      "  _warn_prf(average, modifier, msg_start, len(result))\n"
     ]
    },
    {
     "name": "stdout",
     "output_type": "stream",
     "text": [
      "{'Training Loss': 2.6535, 'Validation Loss': 2.5307, 'Accuracy': 0.562, 'Precision': 0.7509, 'Recall': 0.562, 'F1': 0.539}\n"
     ]
    },
    {
     "data": {
      "application/vnd.jupyter.widget-view+json": {
       "model_id": "",
       "version_major": 2,
       "version_minor": 0
      },
      "text/plain": [
       "  0%|          | 0/200 [00:00<?, ?it/s]"
      ]
     },
     "metadata": {},
     "output_type": "display_data"
    },
    {
     "name": "stdout",
     "output_type": "stream",
     "text": [
      "{'Training Loss': 2.5021, 'Validation Loss': 2.3934, 'Accuracy': 0.5675, 'Precision': 0.9398, 'Recall': 0.5675, 'F1': 0.6234}\n"
     ]
    },
    {
     "data": {
      "application/vnd.jupyter.widget-view+json": {
       "model_id": "",
       "version_major": 2,
       "version_minor": 0
      },
      "text/plain": [
       "  0%|          | 0/200 [00:00<?, ?it/s]"
      ]
     },
     "metadata": {},
     "output_type": "display_data"
    },
    {
     "name": "stdout",
     "output_type": "stream",
     "text": [
      "{'Training Loss': 2.3809, 'Validation Loss': 2.3208, 'Accuracy': 0.8245, 'Precision': 0.9357, 'Recall': 0.8245, 'F1': 0.8461}\n"
     ]
    },
    {
     "data": {
      "application/vnd.jupyter.widget-view+json": {
       "model_id": "",
       "version_major": 2,
       "version_minor": 0
      },
      "text/plain": [
       "  0%|          | 0/200 [00:00<?, ?it/s]"
      ]
     },
     "metadata": {},
     "output_type": "display_data"
    },
    {
     "name": "stdout",
     "output_type": "stream",
     "text": [
      "{'Training Loss': 2.3409, 'Validation Loss': 2.288, 'Accuracy': 0.7095, 'Precision': 0.9425, 'Recall': 0.7095, 'F1': 0.7481}\n"
     ]
    },
    {
     "data": {
      "application/vnd.jupyter.widget-view+json": {
       "model_id": "",
       "version_major": 2,
       "version_minor": 0
      },
      "text/plain": [
       "  0%|          | 0/200 [00:00<?, ?it/s]"
      ]
     },
     "metadata": {},
     "output_type": "display_data"
    },
    {
     "name": "stdout",
     "output_type": "stream",
     "text": [
      "{'Training Loss': 2.2933, 'Validation Loss': 2.2265, 'Accuracy': 0.881, 'Precision': 0.9601, 'Recall': 0.881, 'F1': 0.902}\n"
     ]
    },
    {
     "data": {
      "application/vnd.jupyter.widget-view+json": {
       "model_id": "",
       "version_major": 2,
       "version_minor": 0
      },
      "text/plain": [
       "  0%|          | 0/200 [00:00<?, ?it/s]"
      ]
     },
     "metadata": {},
     "output_type": "display_data"
    },
    {
     "name": "stdout",
     "output_type": "stream",
     "text": [
      "{'Training Loss': 2.2567, 'Validation Loss': 2.2081, 'Accuracy': 0.781, 'Precision': 0.9232, 'Recall': 0.781, 'F1': 0.7951}\n"
     ]
    },
    {
     "data": {
      "application/vnd.jupyter.widget-view+json": {
       "model_id": "",
       "version_major": 2,
       "version_minor": 0
      },
      "text/plain": [
       "  0%|          | 0/200 [00:00<?, ?it/s]"
      ]
     },
     "metadata": {},
     "output_type": "display_data"
    },
    {
     "name": "stdout",
     "output_type": "stream",
     "text": [
      "{'Training Loss': 2.243, 'Validation Loss': 2.1865, 'Accuracy': 0.8255, 'Precision': 0.9211, 'Recall': 0.8255, 'F1': 0.8366}\n"
     ]
    },
    {
     "data": {
      "application/vnd.jupyter.widget-view+json": {
       "model_id": "",
       "version_major": 2,
       "version_minor": 0
      },
      "text/plain": [
       "  0%|          | 0/200 [00:00<?, ?it/s]"
      ]
     },
     "metadata": {},
     "output_type": "display_data"
    },
    {
     "name": "stdout",
     "output_type": "stream",
     "text": [
      "{'Training Loss': 2.1741, 'Validation Loss': 2.1693, 'Accuracy': 0.8735, 'Precision': 0.9423, 'Recall': 0.8735, 'F1': 0.8827}\n"
     ]
    },
    {
     "data": {
      "application/vnd.jupyter.widget-view+json": {
       "model_id": "",
       "version_major": 2,
       "version_minor": 0
      },
      "text/plain": [
       "  0%|          | 0/200 [00:00<?, ?it/s]"
      ]
     },
     "metadata": {},
     "output_type": "display_data"
    },
    {
     "name": "stdout",
     "output_type": "stream",
     "text": [
      "{'Training Loss': 2.18, 'Validation Loss': 2.1338, 'Accuracy': 0.8255, 'Precision': 0.9597, 'Recall': 0.8255, 'F1': 0.853}\n"
     ]
    },
    {
     "data": {
      "application/vnd.jupyter.widget-view+json": {
       "model_id": "",
       "version_major": 2,
       "version_minor": 0
      },
      "text/plain": [
       "  0%|          | 0/200 [00:00<?, ?it/s]"
      ]
     },
     "metadata": {},
     "output_type": "display_data"
    },
    {
     "name": "stdout",
     "output_type": "stream",
     "text": [
      "{'Training Loss': 2.132, 'Validation Loss': 2.0991, 'Accuracy': 0.9255, 'Precision': 0.9545, 'Recall': 0.9255, 'F1': 0.9311}\n"
     ]
    },
    {
     "data": {
      "application/vnd.jupyter.widget-view+json": {
       "model_id": "",
       "version_major": 2,
       "version_minor": 0
      },
      "text/plain": [
       "  0%|          | 0/200 [00:00<?, ?it/s]"
      ]
     },
     "metadata": {},
     "output_type": "display_data"
    },
    {
     "name": "stdout",
     "output_type": "stream",
     "text": [
      "{'Training Loss': 2.1439, 'Validation Loss': 2.0793, 'Accuracy': 0.953, 'Precision': 0.975, 'Recall': 0.953, 'F1': 0.9581}\n"
     ]
    },
    {
     "data": {
      "application/vnd.jupyter.widget-view+json": {
       "model_id": "",
       "version_major": 2,
       "version_minor": 0
      },
      "text/plain": [
       "  0%|          | 0/200 [00:00<?, ?it/s]"
      ]
     },
     "metadata": {},
     "output_type": "display_data"
    },
    {
     "name": "stdout",
     "output_type": "stream",
     "text": [
      "{'Training Loss': 2.131, 'Validation Loss': 2.068, 'Accuracy': 0.8785, 'Precision': 0.9627, 'Recall': 0.8785, 'F1': 0.9043}\n"
     ]
    },
    {
     "data": {
      "application/vnd.jupyter.widget-view+json": {
       "model_id": "",
       "version_major": 2,
       "version_minor": 0
      },
      "text/plain": [
       "  0%|          | 0/200 [00:00<?, ?it/s]"
      ]
     },
     "metadata": {},
     "output_type": "display_data"
    },
    {
     "name": "stdout",
     "output_type": "stream",
     "text": [
      "{'Training Loss': 2.0973, 'Validation Loss': 2.0397, 'Accuracy': 0.885, 'Precision': 0.9633, 'Recall': 0.885, 'F1': 0.9088}\n"
     ]
    },
    {
     "data": {
      "application/vnd.jupyter.widget-view+json": {
       "model_id": "",
       "version_major": 2,
       "version_minor": 0
      },
      "text/plain": [
       "  0%|          | 0/200 [00:00<?, ?it/s]"
      ]
     },
     "metadata": {},
     "output_type": "display_data"
    },
    {
     "name": "stdout",
     "output_type": "stream",
     "text": [
      "{'Training Loss': 2.0604, 'Validation Loss': 2.016, 'Accuracy': 0.9115, 'Precision': 0.9593, 'Recall': 0.9115, 'F1': 0.9241}\n"
     ]
    },
    {
     "data": {
      "application/vnd.jupyter.widget-view+json": {
       "model_id": "",
       "version_major": 2,
       "version_minor": 0
      },
      "text/plain": [
       "  0%|          | 0/200 [00:00<?, ?it/s]"
      ]
     },
     "metadata": {},
     "output_type": "display_data"
    },
    {
     "name": "stdout",
     "output_type": "stream",
     "text": [
      "{'Training Loss': 2.0513, 'Validation Loss': 2.0396, 'Accuracy': 0.8345, 'Precision': 0.9221, 'Recall': 0.8345, 'F1': 0.8451}\n"
     ]
    },
    {
     "data": {
      "application/vnd.jupyter.widget-view+json": {
       "model_id": "",
       "version_major": 2,
       "version_minor": 0
      },
      "text/plain": [
       "  0%|          | 0/200 [00:00<?, ?it/s]"
      ]
     },
     "metadata": {},
     "output_type": "display_data"
    },
    {
     "name": "stdout",
     "output_type": "stream",
     "text": [
      "{'Training Loss': 2.021, 'Validation Loss': 1.9878, 'Accuracy': 0.934, 'Precision': 0.9595, 'Recall': 0.934, 'F1': 0.9373}\n"
     ]
    },
    {
     "data": {
      "application/vnd.jupyter.widget-view+json": {
       "model_id": "",
       "version_major": 2,
       "version_minor": 0
      },
      "text/plain": [
       "  0%|          | 0/200 [00:00<?, ?it/s]"
      ]
     },
     "metadata": {},
     "output_type": "display_data"
    },
    {
     "name": "stdout",
     "output_type": "stream",
     "text": [
      "{'Training Loss': 1.9902, 'Validation Loss': 1.9646, 'Accuracy': 0.9065, 'Precision': 0.9672, 'Recall': 0.9065, 'F1': 0.9247}\n"
     ]
    },
    {
     "data": {
      "application/vnd.jupyter.widget-view+json": {
       "model_id": "",
       "version_major": 2,
       "version_minor": 0
      },
      "text/plain": [
       "  0%|          | 0/200 [00:00<?, ?it/s]"
      ]
     },
     "metadata": {},
     "output_type": "display_data"
    },
    {
     "name": "stdout",
     "output_type": "stream",
     "text": [
      "{'Training Loss': 1.9802, 'Validation Loss': 1.9442, 'Accuracy': 0.951, 'Precision': 0.9745, 'Recall': 0.951, 'F1': 0.9567}\n"
     ]
    },
    {
     "data": {
      "application/vnd.jupyter.widget-view+json": {
       "model_id": "",
       "version_major": 2,
       "version_minor": 0
      },
      "text/plain": [
       "  0%|          | 0/200 [00:00<?, ?it/s]"
      ]
     },
     "metadata": {},
     "output_type": "display_data"
    },
    {
     "name": "stdout",
     "output_type": "stream",
     "text": [
      "{'Training Loss': 1.9968, 'Validation Loss': 1.9299, 'Accuracy': 0.9515, 'Precision': 0.9692, 'Recall': 0.9515, 'F1': 0.9559}\n"
     ]
    },
    {
     "data": {
      "application/vnd.jupyter.widget-view+json": {
       "model_id": "",
       "version_major": 2,
       "version_minor": 0
      },
      "text/plain": [
       "  0%|          | 0/200 [00:00<?, ?it/s]"
      ]
     },
     "metadata": {},
     "output_type": "display_data"
    },
    {
     "name": "stdout",
     "output_type": "stream",
     "text": [
      "{'Training Loss': 1.9316, 'Validation Loss': 1.9061, 'Accuracy': 0.916, 'Precision': 0.9643, 'Recall': 0.916, 'F1': 0.9289}\n"
     ]
    },
    {
     "data": {
      "application/vnd.jupyter.widget-view+json": {
       "model_id": "",
       "version_major": 2,
       "version_minor": 0
      },
      "text/plain": [
       "  0%|          | 0/200 [00:00<?, ?it/s]"
      ]
     },
     "metadata": {},
     "output_type": "display_data"
    },
    {
     "name": "stdout",
     "output_type": "stream",
     "text": [
      "{'Training Loss': 1.9235, 'Validation Loss': 1.8873, 'Accuracy': 0.961, 'Precision': 0.9744, 'Recall': 0.961, 'F1': 0.9635}\n"
     ]
    },
    {
     "data": {
      "application/vnd.jupyter.widget-view+json": {
       "model_id": "",
       "version_major": 2,
       "version_minor": 0
      },
      "text/plain": [
       "  0%|          | 0/200 [00:00<?, ?it/s]"
      ]
     },
     "metadata": {},
     "output_type": "display_data"
    },
    {
     "name": "stdout",
     "output_type": "stream",
     "text": [
      "{'Training Loss': 1.8952, 'Validation Loss': 1.86, 'Accuracy': 0.9845, 'Precision': 0.9856, 'Recall': 0.9845, 'F1': 0.9845}\n"
     ]
    },
    {
     "data": {
      "application/vnd.jupyter.widget-view+json": {
       "model_id": "",
       "version_major": 2,
       "version_minor": 0
      },
      "text/plain": [
       "  0%|          | 0/200 [00:00<?, ?it/s]"
      ]
     },
     "metadata": {},
     "output_type": "display_data"
    },
    {
     "name": "stdout",
     "output_type": "stream",
     "text": [
      "{'Training Loss': 1.9207, 'Validation Loss': 1.8494, 'Accuracy': 0.892, 'Precision': 0.9474, 'Recall': 0.892, 'F1': 0.9048}\n"
     ]
    },
    {
     "data": {
      "application/vnd.jupyter.widget-view+json": {
       "model_id": "61df482b979841f9b3175d0f68e4c33f",
       "version_major": 2,
       "version_minor": 0
      },
      "text/plain": [
       "  0%|          | 0/200 [00:00<?, ?it/s]"
      ]
     },
     "metadata": {},
     "output_type": "display_data"
    },
    {
     "name": "stdout",
     "output_type": "stream",
     "text": [
      "{'Training Loss': 1.9171, 'Validation Loss': 1.8291, 'Accuracy': 0.9475, 'Precision': 0.9728, 'Recall': 0.9475, 'F1': 0.9538}\n"
     ]
    },
    {
     "data": {
      "application/vnd.jupyter.widget-view+json": {
       "model_id": "",
       "version_major": 2,
       "version_minor": 0
      },
      "text/plain": [
       "  0%|          | 0/200 [00:00<?, ?it/s]"
      ]
     },
     "metadata": {},
     "output_type": "display_data"
    },
    {
     "name": "stdout",
     "output_type": "stream",
     "text": [
      "{'Training Loss': 1.8238, 'Validation Loss': 1.8045, 'Accuracy': 0.988, 'Precision': 0.9899, 'Recall': 0.988, 'F1': 0.9883}\n"
     ]
    },
    {
     "data": {
      "application/vnd.jupyter.widget-view+json": {
       "model_id": "",
       "version_major": 2,
       "version_minor": 0
      },
      "text/plain": [
       "  0%|          | 0/200 [00:00<?, ?it/s]"
      ]
     },
     "metadata": {},
     "output_type": "display_data"
    },
    {
     "name": "stdout",
     "output_type": "stream",
     "text": [
      "{'Training Loss': 1.8258, 'Validation Loss': 1.786, 'Accuracy': 0.951, 'Precision': 0.9729, 'Recall': 0.951, 'F1': 0.9566}\n"
     ]
    },
    {
     "data": {
      "application/vnd.jupyter.widget-view+json": {
       "model_id": "",
       "version_major": 2,
       "version_minor": 0
      },
      "text/plain": [
       "  0%|          | 0/200 [00:00<?, ?it/s]"
      ]
     },
     "metadata": {},
     "output_type": "display_data"
    },
    {
     "name": "stdout",
     "output_type": "stream",
     "text": [
      "{'Training Loss': 1.8398, 'Validation Loss': 1.7648, 'Accuracy': 0.9335, 'Precision': 0.9718, 'Recall': 0.9335, 'F1': 0.9448}\n"
     ]
    },
    {
     "data": {
      "application/vnd.jupyter.widget-view+json": {
       "model_id": "984499d6a7d1469697e3a7f8d91e03a9",
       "version_major": 2,
       "version_minor": 0
      },
      "text/plain": [
       "  0%|          | 0/200 [00:00<?, ?it/s]"
      ]
     },
     "metadata": {},
     "output_type": "display_data"
    },
    {
     "data": {
      "application/vnd.jupyter.widget-view+json": {
       "model_id": "",
       "version_major": 2,
       "version_minor": 0
      },
      "text/plain": [
       "  0%|          | 0/200 [00:00<?, ?it/s]"
      ]
     },
     "metadata": {},
     "output_type": "display_data"
    },
    {
     "name": "stdout",
     "output_type": "stream",
     "text": [
      "{'Training Loss': 1.7938, 'Validation Loss': 1.7321, 'Accuracy': 0.9175, 'Precision': 0.9671, 'Recall': 0.9175, 'F1': 0.9315}\n"
     ]
    },
    {
     "data": {
      "application/vnd.jupyter.widget-view+json": {
       "model_id": "",
       "version_major": 2,
       "version_minor": 0
      },
      "text/plain": [
       "  0%|          | 0/200 [00:00<?, ?it/s]"
      ]
     },
     "metadata": {},
     "output_type": "display_data"
    },
    {
     "name": "stdout",
     "output_type": "stream",
     "text": [
      "{'Training Loss': 1.7596, 'Validation Loss': 1.7003, 'Accuracy': 0.9865, 'Precision': 0.9883, 'Recall': 0.9865, 'F1': 0.9868}\n"
     ]
    },
    {
     "data": {
      "application/vnd.jupyter.widget-view+json": {
       "model_id": "",
       "version_major": 2,
       "version_minor": 0
      },
      "text/plain": [
       "  0%|          | 0/200 [00:00<?, ?it/s]"
      ]
     },
     "metadata": {},
     "output_type": "display_data"
    },
    {
     "name": "stdout",
     "output_type": "stream",
     "text": [
      "{'Training Loss': 1.7547, 'Validation Loss': 1.698, 'Accuracy': 0.971, 'Precision': 0.9768, 'Recall': 0.971, 'F1': 0.9706}\n"
     ]
    },
    {
     "data": {
      "application/vnd.jupyter.widget-view+json": {
       "model_id": "",
       "version_major": 2,
       "version_minor": 0
      },
      "text/plain": [
       "  0%|          | 0/200 [00:00<?, ?it/s]"
      ]
     },
     "metadata": {},
     "output_type": "display_data"
    },
    {
     "name": "stdout",
     "output_type": "stream",
     "text": [
      "{'Training Loss': 1.7015, 'Validation Loss': 1.6702, 'Accuracy': 0.969, 'Precision': 0.9763, 'Recall': 0.969, 'F1': 0.97}\n"
     ]
    },
    {
     "data": {
      "application/vnd.jupyter.widget-view+json": {
       "model_id": "",
       "version_major": 2,
       "version_minor": 0
      },
      "text/plain": [
       "  0%|          | 0/200 [00:00<?, ?it/s]"
      ]
     },
     "metadata": {},
     "output_type": "display_data"
    },
    {
     "name": "stdout",
     "output_type": "stream",
     "text": [
      "{'Training Loss': 1.6914, 'Validation Loss': 1.6539, 'Accuracy': 0.9825, 'Precision': 0.9839, 'Recall': 0.9825, 'F1': 0.9824}\n"
     ]
    },
    {
     "data": {
      "application/vnd.jupyter.widget-view+json": {
       "model_id": "",
       "version_major": 2,
       "version_minor": 0
      },
      "text/plain": [
       "  0%|          | 0/200 [00:00<?, ?it/s]"
      ]
     },
     "metadata": {},
     "output_type": "display_data"
    },
    {
     "name": "stdout",
     "output_type": "stream",
     "text": [
      "{'Training Loss': 1.6365, 'Validation Loss': 1.6226, 'Accuracy': 0.98, 'Precision': 0.9817, 'Recall': 0.98, 'F1': 0.9801}\n"
     ]
    },
    {
     "data": {
      "application/vnd.jupyter.widget-view+json": {
       "model_id": "",
       "version_major": 2,
       "version_minor": 0
      },
      "text/plain": [
       "  0%|          | 0/200 [00:00<?, ?it/s]"
      ]
     },
     "metadata": {},
     "output_type": "display_data"
    },
    {
     "name": "stdout",
     "output_type": "stream",
     "text": [
      "{'Training Loss': 1.6463, 'Validation Loss': 1.615, 'Accuracy': 0.9825, 'Precision': 0.9856, 'Recall': 0.9825, 'F1': 0.9832}\n"
     ]
    },
    {
     "data": {
      "application/vnd.jupyter.widget-view+json": {
       "model_id": "",
       "version_major": 2,
       "version_minor": 0
      },
      "text/plain": [
       "  0%|          | 0/200 [00:00<?, ?it/s]"
      ]
     },
     "metadata": {},
     "output_type": "display_data"
    },
    {
     "name": "stdout",
     "output_type": "stream",
     "text": [
      "{'Training Loss': 1.6338, 'Validation Loss': 1.5919, 'Accuracy': 0.966, 'Precision': 0.9766, 'Recall': 0.966, 'F1': 0.9685}\n"
     ]
    },
    {
     "data": {
      "application/vnd.jupyter.widget-view+json": {
       "model_id": "",
       "version_major": 2,
       "version_minor": 0
      },
      "text/plain": [
       "  0%|          | 0/200 [00:00<?, ?it/s]"
      ]
     },
     "metadata": {},
     "output_type": "display_data"
    },
    {
     "name": "stdout",
     "output_type": "stream",
     "text": [
      "{'Training Loss': 1.6245, 'Validation Loss': 1.5983, 'Accuracy': 0.963, 'Precision': 0.975, 'Recall': 0.963, 'F1': 0.9609}\n"
     ]
    },
    {
     "data": {
      "application/vnd.jupyter.widget-view+json": {
       "model_id": "",
       "version_major": 2,
       "version_minor": 0
      },
      "text/plain": [
       "  0%|          | 0/200 [00:00<?, ?it/s]"
      ]
     },
     "metadata": {},
     "output_type": "display_data"
    },
    {
     "name": "stdout",
     "output_type": "stream",
     "text": [
      "{'Training Loss': 1.6188, 'Validation Loss': 1.5488, 'Accuracy': 0.9665, 'Precision': 0.9741, 'Recall': 0.9665, 'F1': 0.9679}\n"
     ]
    },
    {
     "data": {
      "application/vnd.jupyter.widget-view+json": {
       "model_id": "",
       "version_major": 2,
       "version_minor": 0
      },
      "text/plain": [
       "  0%|          | 0/200 [00:00<?, ?it/s]"
      ]
     },
     "metadata": {},
     "output_type": "display_data"
    },
    {
     "name": "stdout",
     "output_type": "stream",
     "text": [
      "{'Training Loss': 1.5594, 'Validation Loss': 1.5449, 'Accuracy': 0.918, 'Precision': 0.9643, 'Recall': 0.918, 'F1': 0.9302}\n"
     ]
    },
    {
     "data": {
      "application/vnd.jupyter.widget-view+json": {
       "model_id": "",
       "version_major": 2,
       "version_minor": 0
      },
      "text/plain": [
       "  0%|          | 0/200 [00:00<?, ?it/s]"
      ]
     },
     "metadata": {},
     "output_type": "display_data"
    },
    {
     "name": "stdout",
     "output_type": "stream",
     "text": [
      "{'Training Loss': 1.5585, 'Validation Loss': 1.5097, 'Accuracy': 0.9695, 'Precision': 0.9795, 'Recall': 0.9695, 'F1': 0.9716}\n"
     ]
    },
    {
     "data": {
      "application/vnd.jupyter.widget-view+json": {
       "model_id": "",
       "version_major": 2,
       "version_minor": 0
      },
      "text/plain": [
       "  0%|          | 0/200 [00:00<?, ?it/s]"
      ]
     },
     "metadata": {},
     "output_type": "display_data"
    },
    {
     "name": "stdout",
     "output_type": "stream",
     "text": [
      "{'Training Loss': 1.5465, 'Validation Loss': 1.4878, 'Accuracy': 0.9695, 'Precision': 0.9808, 'Recall': 0.9695, 'F1': 0.9724}\n"
     ]
    },
    {
     "data": {
      "application/vnd.jupyter.widget-view+json": {
       "model_id": "",
       "version_major": 2,
       "version_minor": 0
      },
      "text/plain": [
       "  0%|          | 0/200 [00:00<?, ?it/s]"
      ]
     },
     "metadata": {},
     "output_type": "display_data"
    },
    {
     "name": "stderr",
     "output_type": "stream",
     "text": [
      "/opt/conda/lib/python3.10/site-packages/sklearn/metrics/_classification.py:1469: UndefinedMetricWarning: Precision is ill-defined and being set to 0.0 in labels with no predicted samples. Use `zero_division` parameter to control this behavior.\n",
      "  _warn_prf(average, modifier, msg_start, len(result))\n"
     ]
    },
    {
     "name": "stdout",
     "output_type": "stream",
     "text": [
      "{'Training Loss': 1.6773, 'Validation Loss': 1.7225, 'Accuracy': 0.8005, 'Precision': 0.7783, 'Recall': 0.8005, 'F1': 0.7741}\n"
     ]
    },
    {
     "data": {
      "application/vnd.jupyter.widget-view+json": {
       "model_id": "",
       "version_major": 2,
       "version_minor": 0
      },
      "text/plain": [
       "  0%|          | 0/200 [00:00<?, ?it/s]"
      ]
     },
     "metadata": {},
     "output_type": "display_data"
    },
    {
     "name": "stderr",
     "output_type": "stream",
     "text": [
      "/opt/conda/lib/python3.10/site-packages/sklearn/metrics/_classification.py:1469: UndefinedMetricWarning: Precision is ill-defined and being set to 0.0 in labels with no predicted samples. Use `zero_division` parameter to control this behavior.\n",
      "  _warn_prf(average, modifier, msg_start, len(result))\n"
     ]
    },
    {
     "name": "stdout",
     "output_type": "stream",
     "text": [
      "{'Training Loss': 1.671, 'Validation Loss': 1.5742, 'Accuracy': 0.8875, 'Precision': 0.856, 'Recall': 0.8875, 'F1': 0.8627}\n"
     ]
    },
    {
     "data": {
      "application/vnd.jupyter.widget-view+json": {
       "model_id": "",
       "version_major": 2,
       "version_minor": 0
      },
      "text/plain": [
       "  0%|          | 0/200 [00:00<?, ?it/s]"
      ]
     },
     "metadata": {},
     "output_type": "display_data"
    },
    {
     "name": "stdout",
     "output_type": "stream",
     "text": [
      "{'Training Loss': 1.5707, 'Validation Loss': 1.4419, 'Accuracy': 0.9815, 'Precision': 0.9856, 'Recall': 0.9815, 'F1': 0.9824}\n"
     ]
    },
    {
     "data": {
      "application/vnd.jupyter.widget-view+json": {
       "model_id": "",
       "version_major": 2,
       "version_minor": 0
      },
      "text/plain": [
       "  0%|          | 0/200 [00:00<?, ?it/s]"
      ]
     },
     "metadata": {},
     "output_type": "display_data"
    },
    {
     "name": "stdout",
     "output_type": "stream",
     "text": [
      "{'Training Loss': 1.4836, 'Validation Loss': 1.4229, 'Accuracy': 0.9825, 'Precision': 0.985, 'Recall': 0.9825, 'F1': 0.9828}\n"
     ]
    },
    {
     "data": {
      "application/vnd.jupyter.widget-view+json": {
       "model_id": "",
       "version_major": 2,
       "version_minor": 0
      },
      "text/plain": [
       "  0%|          | 0/200 [00:00<?, ?it/s]"
      ]
     },
     "metadata": {},
     "output_type": "display_data"
    },
    {
     "name": "stdout",
     "output_type": "stream",
     "text": [
      "{'Training Loss': 1.4321, 'Validation Loss': 1.3969, 'Accuracy': 0.9905, 'Precision': 0.9912, 'Recall': 0.9905, 'F1': 0.9906}\n"
     ]
    },
    {
     "data": {
      "application/vnd.jupyter.widget-view+json": {
       "model_id": "",
       "version_major": 2,
       "version_minor": 0
      },
      "text/plain": [
       "  0%|          | 0/200 [00:00<?, ?it/s]"
      ]
     },
     "metadata": {},
     "output_type": "display_data"
    },
    {
     "name": "stdout",
     "output_type": "stream",
     "text": [
      "{'Training Loss': 1.4366, 'Validation Loss': 1.3761, 'Accuracy': 0.996, 'Precision': 0.9961, 'Recall': 0.996, 'F1': 0.996}\n"
     ]
    },
    {
     "data": {
      "application/vnd.jupyter.widget-view+json": {
       "model_id": "",
       "version_major": 2,
       "version_minor": 0
      },
      "text/plain": [
       "  0%|          | 0/200 [00:00<?, ?it/s]"
      ]
     },
     "metadata": {},
     "output_type": "display_data"
    },
    {
     "name": "stdout",
     "output_type": "stream",
     "text": [
      "{'Training Loss': 1.4758, 'Validation Loss': 1.3689, 'Accuracy': 0.982, 'Precision': 0.9856, 'Recall': 0.982, 'F1': 0.9828}\n"
     ]
    },
    {
     "data": {
      "application/vnd.jupyter.widget-view+json": {
       "model_id": "",
       "version_major": 2,
       "version_minor": 0
      },
      "text/plain": [
       "  0%|          | 0/200 [00:00<?, ?it/s]"
      ]
     },
     "metadata": {},
     "output_type": "display_data"
    },
    {
     "name": "stdout",
     "output_type": "stream",
     "text": [
      "{'Training Loss': 1.4277, 'Validation Loss': 1.3504, 'Accuracy': 0.95, 'Precision': 0.9739, 'Recall': 0.95, 'F1': 0.9566}\n"
     ]
    },
    {
     "data": {
      "application/vnd.jupyter.widget-view+json": {
       "model_id": "",
       "version_major": 2,
       "version_minor": 0
      },
      "text/plain": [
       "  0%|          | 0/200 [00:00<?, ?it/s]"
      ]
     },
     "metadata": {},
     "output_type": "display_data"
    },
    {
     "name": "stdout",
     "output_type": "stream",
     "text": [
      "{'Training Loss': 1.4163, 'Validation Loss': 1.3322, 'Accuracy': 0.9665, 'Precision': 0.9794, 'Recall': 0.9665, 'F1': 0.9696}\n"
     ]
    },
    {
     "data": {
      "application/vnd.jupyter.widget-view+json": {
       "model_id": "",
       "version_major": 2,
       "version_minor": 0
      },
      "text/plain": [
       "  0%|          | 0/200 [00:00<?, ?it/s]"
      ]
     },
     "metadata": {},
     "output_type": "display_data"
    },
    {
     "name": "stdout",
     "output_type": "stream",
     "text": [
      "{'Training Loss': 1.3831, 'Validation Loss': 1.3176, 'Accuracy': 0.9765, 'Precision': 0.9818, 'Recall': 0.9765, 'F1': 0.9777}\n"
     ]
    },
    {
     "data": {
      "application/vnd.jupyter.widget-view+json": {
       "model_id": "",
       "version_major": 2,
       "version_minor": 0
      },
      "text/plain": [
       "  0%|          | 0/200 [00:00<?, ?it/s]"
      ]
     },
     "metadata": {},
     "output_type": "display_data"
    },
    {
     "name": "stdout",
     "output_type": "stream",
     "text": [
      "{'Training Loss': 1.3635, 'Validation Loss': 1.2923, 'Accuracy': 0.9825, 'Precision': 0.9868, 'Recall': 0.9825, 'F1': 0.9835}\n"
     ]
    },
    {
     "data": {
      "application/vnd.jupyter.widget-view+json": {
       "model_id": "",
       "version_major": 2,
       "version_minor": 0
      },
      "text/plain": [
       "  0%|          | 0/200 [00:00<?, ?it/s]"
      ]
     },
     "metadata": {},
     "output_type": "display_data"
    },
    {
     "name": "stdout",
     "output_type": "stream",
     "text": [
      "{'Training Loss': 1.3401, 'Validation Loss': 1.2772, 'Accuracy': 0.973, 'Precision': 0.9811, 'Recall': 0.973, 'F1': 0.975}\n"
     ]
    },
    {
     "data": {
      "application/vnd.jupyter.widget-view+json": {
       "model_id": "",
       "version_major": 2,
       "version_minor": 0
      },
      "text/plain": [
       "  0%|          | 0/200 [00:00<?, ?it/s]"
      ]
     },
     "metadata": {},
     "output_type": "display_data"
    },
    {
     "name": "stdout",
     "output_type": "stream",
     "text": [
      "{'Training Loss': 1.3204, 'Validation Loss': 1.261, 'Accuracy': 0.9745, 'Precision': 0.9787, 'Recall': 0.9745, 'F1': 0.9752}\n"
     ]
    },
    {
     "data": {
      "application/vnd.jupyter.widget-view+json": {
       "model_id": "",
       "version_major": 2,
       "version_minor": 0
      },
      "text/plain": [
       "  0%|          | 0/200 [00:00<?, ?it/s]"
      ]
     },
     "metadata": {},
     "output_type": "display_data"
    },
    {
     "name": "stdout",
     "output_type": "stream",
     "text": [
      "{'Training Loss': 1.2671, 'Validation Loss': 1.2493, 'Accuracy': 0.981, 'Precision': 0.9837, 'Recall': 0.981, 'F1': 0.9815}\n"
     ]
    },
    {
     "data": {
      "application/vnd.jupyter.widget-view+json": {
       "model_id": "",
       "version_major": 2,
       "version_minor": 0
      },
      "text/plain": [
       "  0%|          | 0/200 [00:00<?, ?it/s]"
      ]
     },
     "metadata": {},
     "output_type": "display_data"
    },
    {
     "name": "stdout",
     "output_type": "stream",
     "text": [
      "{'Training Loss': 1.2674, 'Validation Loss': 1.2239, 'Accuracy': 0.9805, 'Precision': 0.9858, 'Recall': 0.9805, 'F1': 0.9818}\n"
     ]
    },
    {
     "data": {
      "application/vnd.jupyter.widget-view+json": {
       "model_id": "",
       "version_major": 2,
       "version_minor": 0
      },
      "text/plain": [
       "  0%|          | 0/200 [00:00<?, ?it/s]"
      ]
     },
     "metadata": {},
     "output_type": "display_data"
    },
    {
     "name": "stdout",
     "output_type": "stream",
     "text": [
      "{'Training Loss': 1.2971, 'Validation Loss': 1.2064, 'Accuracy': 0.9795, 'Precision': 0.9859, 'Recall': 0.9795, 'F1': 0.9811}\n"
     ]
    },
    {
     "data": {
      "application/vnd.jupyter.widget-view+json": {
       "model_id": "",
       "version_major": 2,
       "version_minor": 0
      },
      "text/plain": [
       "  0%|          | 0/200 [00:00<?, ?it/s]"
      ]
     },
     "metadata": {},
     "output_type": "display_data"
    },
    {
     "name": "stdout",
     "output_type": "stream",
     "text": [
      "{'Training Loss': 1.2502, 'Validation Loss': 1.1838, 'Accuracy': 0.997, 'Precision': 0.9971, 'Recall': 0.997, 'F1': 0.997}\n"
     ]
    },
    {
     "data": {
      "application/vnd.jupyter.widget-view+json": {
       "model_id": "",
       "version_major": 2,
       "version_minor": 0
      },
      "text/plain": [
       "  0%|          | 0/200 [00:00<?, ?it/s]"
      ]
     },
     "metadata": {},
     "output_type": "display_data"
    },
    {
     "name": "stdout",
     "output_type": "stream",
     "text": [
      "{'Training Loss': 1.2823, 'Validation Loss': 1.1714, 'Accuracy': 0.9895, 'Precision': 0.9901, 'Recall': 0.9895, 'F1': 0.9895}\n"
     ]
    },
    {
     "data": {
      "application/vnd.jupyter.widget-view+json": {
       "model_id": "",
       "version_major": 2,
       "version_minor": 0
      },
      "text/plain": [
       "  0%|          | 0/200 [00:00<?, ?it/s]"
      ]
     },
     "metadata": {},
     "output_type": "display_data"
    },
    {
     "name": "stdout",
     "output_type": "stream",
     "text": [
      "{'Training Loss': 1.2214, 'Validation Loss': 1.162, 'Accuracy': 0.9955, 'Precision': 0.9956, 'Recall': 0.9955, 'F1': 0.9955}\n"
     ]
    },
    {
     "data": {
      "application/vnd.jupyter.widget-view+json": {
       "model_id": "",
       "version_major": 2,
       "version_minor": 0
      },
      "text/plain": [
       "  0%|          | 0/200 [00:00<?, ?it/s]"
      ]
     },
     "metadata": {},
     "output_type": "display_data"
    },
    {
     "name": "stdout",
     "output_type": "stream",
     "text": [
      "{'Training Loss': 1.2477, 'Validation Loss': 1.1419, 'Accuracy': 0.9885, 'Precision': 0.9904, 'Recall': 0.9885, 'F1': 0.9889}\n"
     ]
    },
    {
     "data": {
      "application/vnd.jupyter.widget-view+json": {
       "model_id": "",
       "version_major": 2,
       "version_minor": 0
      },
      "text/plain": [
       "  0%|          | 0/200 [00:00<?, ?it/s]"
      ]
     },
     "metadata": {},
     "output_type": "display_data"
    },
    {
     "name": "stdout",
     "output_type": "stream",
     "text": [
      "{'Training Loss': 1.2263, 'Validation Loss': 1.1341, 'Accuracy': 0.9925, 'Precision': 0.9929, 'Recall': 0.9925, 'F1': 0.9926}\n"
     ]
    },
    {
     "data": {
      "application/vnd.jupyter.widget-view+json": {
       "model_id": "",
       "version_major": 2,
       "version_minor": 0
      },
      "text/plain": [
       "  0%|          | 0/200 [00:00<?, ?it/s]"
      ]
     },
     "metadata": {},
     "output_type": "display_data"
    },
    {
     "name": "stdout",
     "output_type": "stream",
     "text": [
      "{'Training Loss': 1.1977, 'Validation Loss': 1.1034, 'Accuracy': 0.9845, 'Precision': 0.9872, 'Recall': 0.9845, 'F1': 0.985}\n"
     ]
    },
    {
     "data": {
      "application/vnd.jupyter.widget-view+json": {
       "model_id": "",
       "version_major": 2,
       "version_minor": 0
      },
      "text/plain": [
       "  0%|          | 0/200 [00:00<?, ?it/s]"
      ]
     },
     "metadata": {},
     "output_type": "display_data"
    },
    {
     "name": "stdout",
     "output_type": "stream",
     "text": [
      "{'Training Loss': 1.172, 'Validation Loss': 1.0979, 'Accuracy': 0.9915, 'Precision': 0.9925, 'Recall': 0.9915, 'F1': 0.9917}\n"
     ]
    },
    {
     "data": {
      "application/vnd.jupyter.widget-view+json": {
       "model_id": "",
       "version_major": 2,
       "version_minor": 0
      },
      "text/plain": [
       "  0%|          | 0/200 [00:00<?, ?it/s]"
      ]
     },
     "metadata": {},
     "output_type": "display_data"
    },
    {
     "name": "stdout",
     "output_type": "stream",
     "text": [
      "{'Training Loss': 1.1841, 'Validation Loss': 1.08, 'Accuracy': 0.9935, 'Precision': 0.9936, 'Recall': 0.9935, 'F1': 0.9935}\n"
     ]
    },
    {
     "data": {
      "application/vnd.jupyter.widget-view+json": {
       "model_id": "",
       "version_major": 2,
       "version_minor": 0
      },
      "text/plain": [
       "  0%|          | 0/200 [00:00<?, ?it/s]"
      ]
     },
     "metadata": {},
     "output_type": "display_data"
    },
    {
     "name": "stdout",
     "output_type": "stream",
     "text": [
      "{'Training Loss': 1.1445, 'Validation Loss': 1.063, 'Accuracy': 0.9885, 'Precision': 0.9903, 'Recall': 0.9885, 'F1': 0.9889}\n"
     ]
    },
    {
     "data": {
      "application/vnd.jupyter.widget-view+json": {
       "model_id": "",
       "version_major": 2,
       "version_minor": 0
      },
      "text/plain": [
       "  0%|          | 0/200 [00:00<?, ?it/s]"
      ]
     },
     "metadata": {},
     "output_type": "display_data"
    },
    {
     "name": "stdout",
     "output_type": "stream",
     "text": [
      "{'Training Loss': 1.1071, 'Validation Loss': 1.0467, 'Accuracy': 0.996, 'Precision': 0.9961, 'Recall': 0.996, 'F1': 0.996}\n"
     ]
    },
    {
     "data": {
      "application/vnd.jupyter.widget-view+json": {
       "model_id": "",
       "version_major": 2,
       "version_minor": 0
      },
      "text/plain": [
       "  0%|          | 0/200 [00:00<?, ?it/s]"
      ]
     },
     "metadata": {},
     "output_type": "display_data"
    },
    {
     "name": "stdout",
     "output_type": "stream",
     "text": [
      "{'Training Loss': 1.139, 'Validation Loss': 1.034, 'Accuracy': 0.987, 'Precision': 0.9893, 'Recall': 0.987, 'F1': 0.9875}\n"
     ]
    },
    {
     "data": {
      "application/vnd.jupyter.widget-view+json": {
       "model_id": "",
       "version_major": 2,
       "version_minor": 0
      },
      "text/plain": [
       "  0%|          | 0/200 [00:00<?, ?it/s]"
      ]
     },
     "metadata": {},
     "output_type": "display_data"
    },
    {
     "name": "stdout",
     "output_type": "stream",
     "text": [
      "{'Training Loss': 1.1573, 'Validation Loss': 1.0442, 'Accuracy': 0.9785, 'Precision': 0.9803, 'Recall': 0.9785, 'F1': 0.9786}\n"
     ]
    }
   ],
   "source": [
    "step = 0\n",
    "total_loss = 0.0\n",
    "for batch in tqdm(train):\n",
    "    lc.train()\n",
    "    labels = batch['labels'].type(torch.LongTensor).cuda()\n",
    "    inputs = {key: batch[key] for key in [\"input_ids\",\"attention_mask\",\"token_type_ids\"]}\n",
    "    inputs = {k:v.cuda() for k,v in inputs.items()}\n",
    "    logits = lc(inputs)\n",
    "    loss = lossFN(logits,labels)\n",
    "    optimizer.zero_grad()\n",
    "    loss.backward()\n",
    "    optimizer.step()\n",
    "    total_loss += loss.item()*10\n",
    "    step = step+1\n",
    "    if step%100 == 0:\n",
    "        preds = []\n",
    "        labs = []\n",
    "        val_loss = 0.0\n",
    "        for valBatch in tqdm(val,leave=False):\n",
    "            with torch.no_grad():\n",
    "                lc.eval()\n",
    "                valLabels = valBatch['labels'].type(torch.LongTensor).cuda()\n",
    "                labs.extend(list(valBatch['labels'].detach().cpu().numpy()))\n",
    "                inputs = {key: valBatch[key] for key in [\"input_ids\",\"attention_mask\",\"token_type_ids\"]}\n",
    "                inputs = {k:v.cuda() for k,v in inputs.items()}\n",
    "                logits = lc(inputs)\n",
    "                loss = lossFN(logits,valLabels)\n",
    "                val_loss += loss.item()*10\n",
    "                preds.extend(list(logits.argmax(1).detach().cpu().numpy()))\n",
    "        accuracy = accuracy_score(labs,preds)\n",
    "        precision = precision_score(labs,preds, average='weighted')\n",
    "        recall = recall_score(labs,preds, average='weighted')\n",
    "        f1 = f1_score(labs,preds, average='weighted')\n",
    "        metrics = {\"Training Loss\":round(total_loss/(1000),4),\"Validation Loss\":round(val_loss/2000,4),\"Accuracy\": accuracy,\"Precision\": round(precision,4),\"Recall\": round(recall,4),\"F1\": round(f1,4)}\n",
    "        total_loss = 0.0\n",
    "        print(metrics)\n",
    "        "
   ]
  },
  {
   "cell_type": "markdown",
   "id": "5b2984b4-5962-4b3c-bd1f-fafc5fca1c5c",
   "metadata": {},
   "source": [
    "### Save Model"
   ]
  },
  {
   "cell_type": "code",
   "execution_count": 16,
   "id": "0f64b671-7079-4f22-b4e6-2226a9d65060",
   "metadata": {},
   "outputs": [],
   "source": [
    "torch.save(lc.state_dict(), \"./mdebertaV1PersonalPooling\")"
   ]
  },
  {
   "cell_type": "code",
   "execution_count": 18,
   "id": "a560d174-bb7a-4f1e-a602-5d372931aecd",
   "metadata": {},
   "outputs": [
    {
     "data": {
      "text/plain": [
       "langClassifier(\n",
       "  (model): DebertaV2Model(\n",
       "    (embeddings): DebertaV2Embeddings(\n",
       "      (word_embeddings): Embedding(251000, 768, padding_idx=0)\n",
       "      (LayerNorm): LayerNorm((768,), eps=1e-07, elementwise_affine=True)\n",
       "      (dropout): StableDropout()\n",
       "    )\n",
       "    (encoder): DebertaV2Encoder(\n",
       "      (layer): ModuleList(\n",
       "        (0-11): 12 x DebertaV2Layer(\n",
       "          (attention): DebertaV2Attention(\n",
       "            (self): DisentangledSelfAttention(\n",
       "              (query_proj): Linear(in_features=768, out_features=768, bias=True)\n",
       "              (key_proj): Linear(in_features=768, out_features=768, bias=True)\n",
       "              (value_proj): Linear(in_features=768, out_features=768, bias=True)\n",
       "              (pos_dropout): StableDropout()\n",
       "              (dropout): StableDropout()\n",
       "            )\n",
       "            (output): DebertaV2SelfOutput(\n",
       "              (dense): Linear(in_features=768, out_features=768, bias=True)\n",
       "              (LayerNorm): LayerNorm((768,), eps=1e-07, elementwise_affine=True)\n",
       "              (dropout): StableDropout()\n",
       "            )\n",
       "          )\n",
       "          (intermediate): DebertaV2Intermediate(\n",
       "            (dense): Linear(in_features=768, out_features=3072, bias=True)\n",
       "            (intermediate_act_fn): GELUActivation()\n",
       "          )\n",
       "          (output): DebertaV2Output(\n",
       "            (dense): Linear(in_features=3072, out_features=768, bias=True)\n",
       "            (LayerNorm): LayerNorm((768,), eps=1e-07, elementwise_affine=True)\n",
       "            (dropout): StableDropout()\n",
       "          )\n",
       "        )\n",
       "      )\n",
       "      (rel_embeddings): Embedding(512, 768)\n",
       "      (LayerNorm): LayerNorm((768,), eps=1e-07, elementwise_affine=True)\n",
       "    )\n",
       "  )\n",
       "  (dense): Linear(in_features=768, out_features=20, bias=True)\n",
       ")"
      ]
     },
     "execution_count": 18,
     "metadata": {},
     "output_type": "execute_result"
    }
   ],
   "source": [
    "lc.load_state_dict(torch.load(\"./mdebertaV1PersonalPooling\"))\n",
    "lc.eval()"
   ]
  },
  {
   "cell_type": "code",
   "execution_count": 19,
   "id": "dfa698df-beb5-4744-92ce-fb2dbc82ec27",
   "metadata": {},
   "outputs": [],
   "source": [
    "def evaluateTest():\n",
    "    predictions = []\n",
    "    with torch.no_grad():\n",
    "        for batch in tqdm(test):\n",
    "            inputs = {key: batch[key] for key in [\"input_ids\",\"attention_mask\",\"token_type_ids\"]}\n",
    "            inputs = {k:v.cuda() for k,v in inputs.items()}\n",
    "            logits = lc(inputs)\n",
    "            predictions.extend(logits.argmax(1).detach().cpu().numpy())\n",
    "    return predictions"
   ]
  },
  {
   "cell_type": "code",
   "execution_count": 20,
   "id": "3d411652-0ee3-4668-9f51-0d2ccd19329c",
   "metadata": {},
   "outputs": [
    {
     "data": {
      "application/vnd.jupyter.widget-view+json": {
       "model_id": "156995f53c7f4a6d811316f1ce137e36",
       "version_major": 2,
       "version_minor": 0
      },
      "text/plain": [
       "  0%|          | 0/1000 [00:00<?, ?it/s]"
      ]
     },
     "metadata": {},
     "output_type": "display_data"
    }
   ],
   "source": [
    "preds = evaluateTest()"
   ]
  },
  {
   "cell_type": "markdown",
   "id": "1dcca804-5cfb-4ccc-a073-3d3afd43da6d",
   "metadata": {},
   "source": [
    "### Metrics"
   ]
  },
  {
   "cell_type": "code",
   "execution_count": null,
   "id": "f0e6d530-23fa-4268-ba78-c1cb41dc2920",
   "metadata": {},
   "outputs": [
    {
     "name": "stdout",
     "output_type": "stream",
     "text": [
      "Accuracy: 0.9788\n",
      "Precision: 0.9805063304442261\n",
      "Recall: 0.9788\n",
      "F1: 0.9789744968976684\n"
     ]
    }
   ],
   "source": [
    "print(\"Accuracy:\",accuracy_score(ds['test']['labels'],preds))\n",
    "print(\"Precision:\",precision_score(ds['test']['labels'],preds, average='weighted'))\n",
    "print(\"Recall:\",recall_score(ds['test']['labels'],preds, average='weighted'))\n",
    "print(\"F1:\",f1_score(ds['test']['labels'],preds, average='weighted'))"
   ]
  },
  {
   "cell_type": "code",
   "execution_count": null,
   "id": "9b7b89f0-e917-44a6-a1bd-407b390e8957",
   "metadata": {},
   "outputs": [
    {
     "name": "stdout",
     "output_type": "stream",
     "text": [
      "              precision    recall  f1-score   support\n",
      "\n",
      "          pt       0.98      1.00      0.99       500\n",
      "          bg       1.00      0.98      0.99       500\n",
      "          zh       0.91      1.00      0.95       500\n",
      "          th       1.00      0.93      0.96       500\n",
      "          ru       0.99      1.00      0.99       500\n",
      "          pl       1.00      0.98      0.99       500\n",
      "          ur       0.98      0.91      0.94       500\n",
      "          sw       0.96      1.00      0.98       500\n",
      "          tr       1.00      1.00      1.00       500\n",
      "          es       1.00      0.98      0.99       500\n",
      "          ar       1.00      0.99      1.00       500\n",
      "          it       0.85      0.99      0.92       500\n",
      "          hi       0.98      0.98      0.98       500\n",
      "          de       1.00      0.91      0.95       500\n",
      "          el       1.00      0.99      0.99       500\n",
      "          nl       0.97      1.00      0.98       500\n",
      "          fr       1.00      1.00      1.00       500\n",
      "          vi       1.00      1.00      1.00       500\n",
      "          en       1.00      0.94      0.97       500\n",
      "          ja       1.00      1.00      1.00       500\n",
      "\n",
      "    accuracy                           0.98     10000\n",
      "   macro avg       0.98      0.98      0.98     10000\n",
      "weighted avg       0.98      0.98      0.98     10000\n",
      "\n"
     ]
    }
   ],
   "source": [
    "print(classification_report(ds['test']['labels'],preds,target_names = list(label2id.keys())))"
   ]
  },
  {
   "cell_type": "code",
   "execution_count": null,
   "id": "15771b1d-5d51-40ac-9a76-8361a55f786e",
   "metadata": {},
   "outputs": [
    {
     "data": {
      "text/plain": [
       "<sklearn.metrics._plot.confusion_matrix.ConfusionMatrixDisplay at 0x7f444681f0d0>"
      ]
     },
     "execution_count": 23,
     "metadata": {},
     "output_type": "execute_result"
    },
    {
     "data": {
      "image/png": "[encoded data removed]",
      "text/plain": [
       "<Figure size 640x480 with 2 Axes>"
      ]
     },
     "metadata": {},
     "output_type": "display_data"
    }
   ],
   "source": [
    "ConfusionMatrixDisplay.from_predictions(ds['test']['labels'],preds,display_labels = list(label2id.keys()))"
   ]
  },
  {
   "cell_type": "markdown",
   "id": "7b399e7c-8b5d-4e10-9b28-c784f319b693",
   "metadata": {},
   "source": [
    "### Default Pooling provided better and faster results for this model, but average of the embeddings may have converged to the same accuracy if training was continued."
   ]
  },
  {
   "cell_type": "code",
   "execution_count": null,
   "id": "6e9953c0-b6c1-4f2d-a79b-ecbfa978001b",
   "metadata": {},
   "outputs": [],
   "source": []
  }
 ],
 "metadata": {
  "environment": {
   "kernel": "python3",
   "name": ".m122",
   "type": "gcloud",
   "uri": "us-docker.pkg.dev/deeplearning-platform-release/gcr.io/:m122"
  },
  "kernelspec": {
   "display_name": "Python 3 (ipykernel)",
   "language": "python",
   "name": "python3"
  },
  "language_info": {
   "codemirror_mode": {
    "name": "ipython",
    "version": 3
   },
   "file_extension": ".py",
   "mimetype": "text/x-python",
   "name": "python",
   "nbconvert_exporter": "python",
   "pygments_lexer": "ipython3",
   "version": "3.10.12"
  }
 },
 "nbformat": 4,
 "nbformat_minor": 5
}
